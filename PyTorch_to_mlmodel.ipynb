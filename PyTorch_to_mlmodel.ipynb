{
  "nbformat": 4,
  "nbformat_minor": 0,
  "metadata": {
    "colab": {
      "provenance": []
    },
    "kernelspec": {
      "name": "python3",
      "display_name": "Python 3"
    },
    "language_info": {
      "name": "python"
    }
  },
  "cells": [
    {
      "cell_type": "code",
      "source": [
        "EPGCNN() model的架構"
      ],
      "metadata": {
        "id": "2-WUS89nJZYn"
      },
      "execution_count": null,
      "outputs": []
    },
    {
      "cell_type": "code",
      "execution_count": null,
      "metadata": {
        "id": "tNtQO2YsHYow"
      },
      "outputs": [],
      "source": [
        "import torch\n",
        "import torchvision\n",
        "\n",
        "device = torch.device('cuda' if torch.cuda.is_available() else 'cpu')\n",
        "model = EPGCNN().to(device)\n",
        "model.load_state_dict(torch.load('./model.pt', map_location=device))\n",
        "\n",
        "\n",
        "# Trace the model with random data.\n",
        "example_input = torch.rand(1, 440) #這邊的input要視model而定\n",
        "traced_model = torch.jit.trace(model, example_input)\n",
        "out = traced_model(example_input)\n",
        "\n",
        "import coremltools as ct\n",
        "\n",
        "\n",
        "# Convert to Core ML program\n",
        "model = ct.convert(\n",
        "    traced_model,\n",
        "    inputs=[ct.TensorType(shape=example_input.shape)]\n",
        " )\n",
        "\n",
        "# Save the converted model.\n",
        "model.save(\"./model.mlmodel\")\n"
      ]
    }
  ]
}